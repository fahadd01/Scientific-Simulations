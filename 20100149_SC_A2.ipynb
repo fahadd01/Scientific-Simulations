{
 "cells": [
  {
   "cell_type": "code",
   "execution_count": 43,
   "metadata": {},
   "outputs": [],
   "source": [
    "#Through this we will illustrate the use of scipy.optimize\n",
    "#Want the bisect method in scipy.optimize\n",
    "import scipy.optimize as optimize\n",
    "#Importing to use bisect method\n",
    "import matplotlib.pyplot as plt # used for plotting\n",
    "#Imported to make use of the cos function\n",
    "import numpy as np"
   ]
  },
  {
   "cell_type": "markdown",
   "metadata": {},
   "source": [
    "Question 1."
   ]
  },
  {
   "cell_type": "code",
   "execution_count": 44,
   "metadata": {},
   "outputs": [
    {
     "data": {
      "text/plain": [
       "-0.6"
      ]
     },
     "execution_count": 44,
     "metadata": {},
     "output_type": "execute_result"
    }
   ],
   "source": [
    "0.2+0.1-0.9"
   ]
  },
  {
   "cell_type": "code",
   "execution_count": 45,
   "metadata": {},
   "outputs": [
    {
     "data": {
      "text/plain": [
       "-0.6000000000000001"
      ]
     },
     "execution_count": 45,
     "metadata": {},
     "output_type": "execute_result"
    }
   ],
   "source": [
    "0.2+(0.1-0.9)"
   ]
  },
  {
   "cell_type": "markdown",
   "metadata": {},
   "source": [
    "Question 4."
   ]
  },
  {
   "cell_type": "code",
   "execution_count": 46,
   "metadata": {},
   "outputs": [],
   "source": [
    "def constraint_plane(x): \n",
    "    a,b,c = (x[0],x[1],x[2])\n",
    "    ans = x[0]+x[1]+x[2]-3\n",
    "    return ans\n",
    "\n",
    "constraint = { 'type':'eq', 'fun': constraint_plane} \n",
    "\n",
    "def function(x): \n",
    "    ans = np.sqrt((x[0] - 0)**2 + (x[1] - 0)**2 + (x[2] - 0)**2)\n",
    "    return ans"
   ]
  },
  {
   "cell_type": "code",
   "execution_count": 47,
   "metadata": {},
   "outputs": [
    {
     "data": {
      "text/plain": [
       "     fun: 1.7320508075688785\n",
       "     jac: array([-0.57735026, -0.57735026, -0.57735026])\n",
       " message: 'Optimization terminated successfully.'\n",
       "    nfev: 6\n",
       "     nit: 1\n",
       "    njev: 1\n",
       "  status: 0\n",
       " success: True\n",
       "       x: array([1., 1., 1.])"
      ]
     },
     "execution_count": 47,
     "metadata": {},
     "output_type": "execute_result"
    }
   ],
   "source": [
    "optimize.minimize(fun=function, x0=[-1,-1,-1], constraints=constraint) "
   ]
  },
  {
   "cell_type": "markdown",
   "metadata": {},
   "source": [
    "Question 5."
   ]
  },
  {
   "cell_type": "code",
   "execution_count": 48,
   "metadata": {},
   "outputs": [
    {
     "data": {
      "image/png": "[encoded data removed]",
      "text/plain": [
       "<Figure size 432x288 with 1 Axes>"
      ]
     },
     "metadata": {
      "needs_background": "light"
     },
     "output_type": "display_data"
    },
    {
     "name": "stdout",
     "output_type": "stream",
     "text": [
      "Approximate and analytic values at endpoint = 4.3757247012456855 5.386294361119891\n"
     ]
    }
   ],
   "source": [
    "''' Numerical solution of prototypical problem\n",
    "    with an initial condition\n",
    "    using an explicit 4th order Runge-Kutta\n",
    "'''\n",
    "\n",
    "Nodes = int((2-1)/0.25)                                                       #nodes on grid\n",
    "d=0.25                                                                        #spacing between nodes \n",
    "val = np.linspace( 1.0 , 2.0 , Nodes , endpoint=True , retstep=False)         # values is an array that ranges from  to 1\n",
    "\n",
    "i_v = 2.0                                                                     # we pick an initial value arbitrarility\n",
    "v = np.zeros(Nodes)                                                           # intialize as an array with zeros\n",
    "v[0] = i_v\n",
    "\n",
    "r = 1\n",
    "\n",
    "#Set v[r] from the v[r-1] using 2nd order RK\n",
    "while r <= Nodes-1:\n",
    "    r1 = d*(1+ (v[r-1]/val[r-1]))\n",
    "    r2 = d*(1+ ((v[r-1] + 0.5*r1)/(val[r-1]+d/2)))\n",
    "    r3 = d*(1+ ((v[r-1] + 0.5*r2)/(val[r-1]+d/2)))\n",
    "    r4 = d*(1+((v[r-1] + r3)/(val[r-1]+d)))\n",
    "    v[ r ] = v[ r-1 ] + ( r1 + 2*r2 + 2*r3 + r4 )/6.0  \n",
    "    r = r + 1\n",
    "#Analytic Solution\n",
    "y =  val*np.log( val ) + i_v*val\n",
    "\n",
    "#Plot of analytic and numerical solution\n",
    "plt.plot( val , v , val , y )\n",
    "plt.legend( ['u' , 'y'] )\n",
    "plt.title( 'Comparison of approximate and analytic results')\n",
    "plt.show()\n",
    "\n",
    "#Compare the analytic and numerical values at t=1\n",
    "print( 'Approximate and analytic values at endpoint =' , v[Nodes-1],y[Nodes-1])"
   ]
  }
 ],
 "metadata": {
  "kernelspec": {
   "display_name": "Python 3",
   "language": "python",
   "name": "python3"
  },
  "language_info": {
   "codemirror_mode": {
    "name": "ipython",
    "version": 3
   },
   "file_extension": ".py",
   "mimetype": "text/x-python",
   "name": "python",
   "nbconvert_exporter": "python",
   "pygments_lexer": "ipython3",
   "version": "3.7.6"
  }
 },
 "nbformat": 4,
 "nbformat_minor": 4
}
