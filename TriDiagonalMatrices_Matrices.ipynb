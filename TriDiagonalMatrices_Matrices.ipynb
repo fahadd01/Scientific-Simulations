{
 "cells": [
  {
   "cell_type": "code",
   "execution_count": 4,
   "metadata": {},
   "outputs": [],
   "source": [
    "import numpy as np\n",
    "import matplotlib.pyplot as plt"
   ]
  },
  {
   "cell_type": "code",
   "execution_count": 4,
   "metadata": {},
   "outputs": [],
   "source": [
    "N = 101\n",
    "t = np.linspace(0,1,N)\n",
    "y_anal = "
   ]
  },
  {
   "cell_type": "code",
   "execution_count": 25,
   "metadata": {},
   "outputs": [
    {
     "name": "stdout",
     "output_type": "stream",
     "text": [
      "9.281648090109229e-06 99 0.6943941818990023\n",
      "101\n"
     ]
    },
    {
     "data": {
      "image/png": "[encoded data removed]",
      "text/plain": [
       "<Figure size 432x288 with 1 Axes>"
      ]
     },
     "metadata": {
      "needs_background": "light"
     },
     "output_type": "display_data"
    },
    {
     "data": {
      "image/png": "[encoded data removed]",
      "text/plain": [
       "<Figure size 432x288 with 1 Axes>"
      ]
     },
     "metadata": {
      "needs_background": "light"
     },
     "output_type": "display_data"
    }
   ],
   "source": [
    "# steepest descent solution of y'=y on [0,1]\n",
    "# this is done in R^N with inner product\n",
    "# ( u , v ) = < D0 u , D0 v > + < D1 u , D1 v >\n",
    "\n",
    "import numpy as np # need numpy arrays\n",
    "import matplotlib.pyplot as plt # plotting function\n",
    "\n",
    "import numpy as np\n",
    "\n",
    "## Tri Diagonal Matrix Algorithm(a.k.a Thomas algorithm) solver\n",
    "def TDMAsolver(a, b, c, d):\n",
    "    '''\n",
    "    TDMA solver, a b c d can be NumPy array type or Python list type.\n",
    "    refer to http://en.wikipedia.org/wiki/Tridiagonal_matrix_algorithm\n",
    "    and to http://www.cfd-online.com/Wiki/Tridiagonal_matrix_algorithm_-_TDMA_(Thomas_algorithm)\n",
    "    '''\n",
    "    nf = len(d) # number of equations\n",
    "    ac, bc, cc, dc = map(np.array, (a, b, c, d)) # copy arrays\n",
    "    for it in range(1, nf):\n",
    "        mc = ac[it-1]/bc[it-1]\n",
    "        bc[it] = bc[it] - mc*cc[it-1] \n",
    "        dc[it] = dc[it] - mc*dc[it-1]\n",
    "\n",
    "    xc = bc\n",
    "    xc[-1] = dc[-1]/bc[-1]\n",
    "\n",
    "    for il in range(nf-2, -1, -1):\n",
    "        xc[il] = (dc[il]-cc[il]*xc[il+1])/bc[il]\n",
    "\n",
    "    \n",
    "    return xc\n",
    "# the infinity norm is a stopping condition for the descent\n",
    "def mag( vec ) :\n",
    "    return np.linalg.norm( vec , ord=np.inf )\n",
    "\n",
    "# number of nodes\n",
    "N = 101\n",
    "\n",
    "# step size lambda\n",
    "step = 0.23 #0.23 works 0.25fails\n",
    "\n",
    "# set an array of time values for plotting\n",
    "# also get the internodal spacing\n",
    "t , delta = np.linspace( start=0.0 , stop=1.0 , num=N , retstep=True )\n",
    "\n",
    "#set an initial guess for the solution\n",
    "u = np.linspace( start=1.0 , stop=2.0 , num=N )\n",
    "\n",
    "#initialize an array for the gradient\n",
    "DFu = np.linspace( start=1.0 , stop=1.0 , num=N )\n",
    "\n",
    "# constants used in calculating the Euiclidean gradient\n",
    "alpha = 2.0/delta + 1.0\n",
    "\n",
    "beta = 2.0/delta - 1.0\n",
    "\n",
    "alphaSquared = alpha**2\n",
    "\n",
    "betaSquared = beta**2\n",
    "\n",
    "minusAlphaBeta = -alpha * beta\n",
    "\n",
    "alphaSquaredPlusBetaSquared = alphaSquared + betaSquared\n",
    "\n",
    "\n",
    "########## the coeffs for the tridiagonal solver\n",
    "a = np.full( N-1 , -1.0/delta**2 + 0.25 )\n",
    "\n",
    "b = np.full( N , 2.0/delta**2 + 0.5 )\n",
    "b[0] = 0.5 * b[0]\n",
    "b[ N-1 ] = 0.5 * b[N-1]\n",
    "\n",
    "c = np.full( N-1 , -1.0/delta**2 + 0.25 )\n",
    "\n",
    "\n",
    "\n",
    "\n",
    "################## begin evolution #####################\n",
    "\n",
    "stepsTaken = 0\n",
    "\n",
    "gradNorm = 10.0\n",
    "while gradNorm >= 0.00001 :\n",
    "    \n",
    "    # calculate first element of the gradient\n",
    "    DFu[ 0 ] = alphaSquared * u[0]  +  minusAlphaBeta * u[1]\n",
    "\n",
    "    # calculate middle elements of the gradient\n",
    "    k = 1\n",
    "    while k <= N-2 :\n",
    "        DFu[ k ] = minusAlphaBeta * u[k-1] + alphaSquaredPlusBetaSquared * u[k] + minusAlphaBeta * u[k+1]\n",
    "\n",
    "        k = k + 1\n",
    "\n",
    "    # calculate last element of the gradient    \n",
    "    DFu[N-1] = minusAlphaBeta * u[N-2]  +  betaSquared * u[N-1]\n",
    "\n",
    "    # check magnitude of the gradient\n",
    "    gradNorm = mag( DFu )\n",
    "\n",
    "    # find the sobolev gradient\n",
    "    PDFu = TDMAsolver( a , b , c , DFu )\n",
    "\n",
    "    # take a minization step\n",
    "    #u = u - step * DFu  \n",
    "    u = u - step * PDFu\n",
    "    #print(t,u,t*u, t*u + 1)\n",
    "    \n",
    "    # how many minimization steps so far?\n",
    "    stepsTaken = stepsTaken + 1\n",
    "\n",
    "    #print( stepsTaken, gradNorm )\n",
    "\n",
    "# end of evolution ######################################    \n",
    "\n",
    "# output\n",
    "print( gradNorm, stepsTaken , u[0] )\n",
    "print(np.size(u))\n",
    "\n",
    "# plot the results vs an exponential function\n",
    "plt.plot( t , u , t , 0.6942*np.exp(t) )\n",
    "plt.show()\n",
    "\n",
    "#plot the gradient\n",
    "plt.plot( t , u) \n",
    "plt.show()"
   ]
  },
  {
   "cell_type": "code",
   "execution_count": 66,
   "metadata": {},
   "outputs": [
    {
     "name": "stdout",
     "output_type": "stream",
     "text": [
      "[ 0.525  1.1    1.2    1.3    1.4    1.5    1.6    1.7    1.8    1.9\n",
      " -9.025]\n"
     ]
    }
   ],
   "source": [
    "import autograd.numpy as np\n",
    "from autograd import grad\n",
    "import matplotlib.pyplot as plt\n",
    "\n",
    "# the infinity norm is used in the stopping condition for the descent\n",
    "def mag( vec ) :\n",
    "    return np.linalg.norm( vec , ord=np.inf )\n",
    "\n",
    "# number of nodes\n",
    "N = 11\n",
    "\n",
    "# step size lambda\n",
    "step = 0.0002\n",
    "\n",
    "# set an array of time values for plotting\n",
    "# also return the internodal spacing\n",
    "t , delta = np.linspace( 0.0 , 1.0 , N , retstep=True )\n",
    "\n",
    "#set an initial guess for the solution\n",
    "u = np.linspace( start=1.0 , stop=2.0 , num=N )\n",
    "\n",
    "# constants used in calculating the functional\n",
    "alpha = 0.5 + 1.0/delta\n",
    "\n",
    "beta = 0.5 - 1.0/delta\n",
    "\n",
    "def f( u ): \n",
    "    \n",
    "    sum = 0.0\n",
    "    \n",
    "    k = 0 \n",
    "    while k <= N-2 :\n",
    "        sum = sum + ( alpha*u[k] + beta*u[k+1] )**2\n",
    "        k=k+1\n",
    "        \n",
    "    return 0.5*sum\n",
    "\n",
    "Df = grad( f )  ## Df(u) is the gradient of f at u\n",
    "\n",
    "print( Df(u) )"
   ]
  },
  {
   "cell_type": "code",
   "execution_count": 68,
   "metadata": {},
   "outputs": [
    {
     "name": "stdout",
     "output_type": "stream",
     "text": [
      "1 9.970444867946071e-06\n",
      "9.970444867946071e-06 1 nan\n"
     ]
    },
    {
     "name": "stderr",
     "output_type": "stream",
     "text": [
      "C:\\Users\\Fahad Hassan\\anaconda3\\lib\\site-packages\\ipykernel_launcher.py:10: RuntimeWarning: divide by zero encountered in true_divide\n",
      "  # Remove the CWD from sys.path while we load stuff.\n",
      "C:\\Users\\Fahad Hassan\\anaconda3\\lib\\site-packages\\ipykernel_launcher.py:10: RuntimeWarning: invalid value encountered in add\n",
      "  # Remove the CWD from sys.path while we load stuff.\n"
     ]
    },
    {
     "data": {
      "image/png": "[encoded data removed]",
      "text/plain": [
       "<Figure size 432x288 with 1 Axes>"
      ]
     },
     "metadata": {
      "needs_background": "light"
     },
     "output_type": "display_data"
    }
   ],
   "source": [
    "### start the evolution and count the number of optimization steps\n",
    "stepsTaken = 0\n",
    "\n",
    "gradNorm = 10.0\n",
    "while gradNorm >= 0.00001 :\n",
    "    \n",
    "      \n",
    "    # take a minization step\n",
    "    Df_u = Df( u )\n",
    "    u = u - step * Df_u  \n",
    "\n",
    "    gradNorm = mag( Df_u )\n",
    "    # how many minimization steps so far?\n",
    "    stepsTaken = stepsTaken + 1\n",
    "\n",
    "    print( stepsTaken ,  gradNorm )\n",
    "\n",
    "    \n",
    "print( gradNorm, stepsTaken , u[0] )\n",
    "\n",
    "# plot the results vs an exponential function\n",
    "plt.plot(t , u)\n",
    "plt.show()"
   ]
  },
  {
   "cell_type": "code",
   "execution_count": null,
   "metadata": {},
   "outputs": [],
   "source": []
  },
  {
   "cell_type": "code",
   "execution_count": null,
   "metadata": {},
   "outputs": [],
   "source": []
  }
 ],
 "metadata": {
  "kernelspec": {
   "display_name": "Python 3",
   "language": "python",
   "name": "python3"
  },
  "language_info": {
   "codemirror_mode": {
    "name": "ipython",
    "version": 3
   },
   "file_extension": ".py",
   "mimetype": "text/x-python",
   "name": "python",
   "nbconvert_exporter": "python",
   "pygments_lexer": "ipython3",
   "version": "3.7.6"
  }
 },
 "nbformat": 4,
 "nbformat_minor": 4
}
